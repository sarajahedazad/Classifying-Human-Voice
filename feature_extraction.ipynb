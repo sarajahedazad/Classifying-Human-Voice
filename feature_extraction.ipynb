{
 "cells": [
  {
   "cell_type": "code",
   "execution_count": null,
   "metadata": {
    "colab": {
     "base_uri": "https://localhost:8080/"
    },
    "id": "7-ODnsi4vr2A",
    "outputId": "2eeec946-0bf8-4528-820d-23bc6134b464"
   },
   "outputs": [
    {
     "name": "stdout",
     "output_type": "stream",
     "text": [
      "Drive already mounted at /content/drive; to attempt to forcibly remount, call drive.mount(\"/content/drive\", force_remount=True).\n"
     ]
    }
   ],
   "source": [
    "from google.colab import drive\n",
    "drive.mount('/content/drive')"
   ]
  },
  {
   "cell_type": "code",
   "execution_count": null,
   "metadata": {
    "colab": {
     "base_uri": "https://localhost:8080/"
    },
    "id": "XwryvO62waO1",
    "outputId": "5cf03104-c33c-4ae0-b62c-b6e5e58a1be6"
   },
   "outputs": [],
   "source": [
    "pip install librosa #output of this cell was cleaned"
   ]
  },
  {
   "cell_type": "code",
   "execution_count": null,
   "metadata": {
    "id": "zdpCRKQBwMJ8"
   },
   "outputs": [],
   "source": [
    "import pandas as pd\n",
    "import numpy as np\n",
    "import os\n",
    "import librosa\n",
    "import random\n",
    "import matplotlib.pyplot as plt\n",
    "import pickle as pkl\n",
    "\n",
    "SEED=21\n",
    "np.random.seed(SEED)\n",
    "random.seed(SEED)\n"
   ]
  },
  {
   "cell_type": "code",
   "execution_count": null,
   "metadata": {
    "id": "ulJnLLNHyfI1"
   },
   "outputs": [],
   "source": [
    "voice_path = '/content/drive/MyDrive/ML/FP_data_cleaned/Voice_dn'\n",
    "csv_path = '/content/drive/MyDrive/ML/FP_data_cleaned/data_cln.csv'"
   ]
  },
  {
   "cell_type": "code",
   "execution_count": null,
   "metadata": {
    "id": "5hRTfmGyzRFd"
   },
   "outputs": [],
   "source": [
    "df = pd.read_csv(csv_path)\n",
    "df_arr = df.iloc[:,:].to_numpy()\n",
    "IDs = df.iloc[:,-1].to_numpy()\n",
    "list_IDs = list(range(IDs.size))"
   ]
  },
  {
   "cell_type": "code",
   "execution_count": null,
   "metadata": {
    "id": "HzeiinT7akmj"
   },
   "outputs": [],
   "source": [
    "def feat_extract(audio,sr):\n",
    "  zcr = librosa.feature.zero_crossing_rate(audio) #1\n",
    "  rms = librosa.feature.rms(y=audio) #1\n",
    "  spec_cent = librosa.feature.spectral_centroid(y=audio, sr=sr) #1\n",
    "  spec_bw = librosa.feature.spectral_bandwidth(y=audio, sr=sr) #1\n",
    "  rolloff = librosa.feature.spectral_rolloff(y=audio, sr=sr) #1\n",
    "  chroma_stft = librosa.feature.chroma_stft(y=audio, sr=sr) #12-> to 1 (averaged)\n",
    "  tonality = librosa.feature.tonnetz(y=audio, sr=sr) #6\n",
    "  mfcc = librosa.feature.mfcc(y=audio, sr=sr) #20\n",
    "  mel = librosa.feature.melspectrogram(y=audio, sr=sr, n_mels=20) #20\n",
    "\n",
    "  tonality_mean = np.mean(tonality, axis=1).reshape(-1, 1)\n",
    "  tonality_var = np.var(tonality, axis=1).reshape(-1, 1)\n",
    "  mfcc_mean = np.mean(mfcc, axis=1).reshape(-1, 1)\n",
    "  mfcc_var = np.var(mfcc, axis=1).reshape(-1, 1)\n",
    "  mel_mean = np.mean(mel, axis=1).reshape(-1, 1)\n",
    "  mel_var = np.var(mel, axis=1).reshape(-1, 1)\n",
    "\n",
    "  concat = np.array([np.mean(zcr), np.var(zcr),\n",
    "                    np.mean(rms), np.var(rms),\n",
    "                    np.mean(spec_cent), np.var(spec_cent),\n",
    "                    np.mean(spec_bw), np.var(spec_bw),\n",
    "                    np.mean(rolloff), np.var(rolloff),\n",
    "                    np.mean(chroma_stft), np.mean(chroma_stft)]).reshape(-1,1)\n",
    "\n",
    "  concat = np.concatenate((concat, tonality_mean, tonality_var,\n",
    "                           mfcc_mean, mfcc_var,\n",
    "                           mel_mean, mel_var), axis=0)\n",
    "  return concat[:,0]\n"
   ]
  },
  {
   "cell_type": "code",
   "execution_count": null,
   "metadata": {
    "colab": {
     "base_uri": "https://localhost:8080/"
    },
    "id": "VdWOoiyAnDXN",
    "outputId": "a75b5625-7cd6-4c17-f871-4b4e4d2bb2f8"
   },
   "outputs": [],
   "source": [
    "X = np.zeros((IDs.size,104)) #104 is the number of features I extracted using different methods\n",
    "i=0\n",
    "for ID in IDs:\n",
    "  voice_ID = str(ID) + '.wav'\n",
    "  path = os.path.join(voice_path, voice_ID)\n",
    "  data, rate = librosa.load(path)\n",
    "  XX=feat_extract(data,rate)\n",
    "  X[i]=XX\n",
    "  i=i+1\n",
    "  print(i)\n",
    "\n",
    "# saving extracted features as a numpy array\n",
    "X_saving_path='/content/drive/MyDrive/ML/FP_data_cleaned/X.npy' \n",
    "np.save(X_saving_path, X)\n",
    "\n",
    "#saving labels as a numpy array\n",
    "labels_saving_path='/content/drive/MyDrive/ML/FP_data_cleaned/labels_.npy'\n",
    "np.save(labels_saving_path,df_arr)\n",
    "\n",
    "# the output of this cell has been cleand"
   ]
  }
 ],
 "metadata": {
  "colab": {
   "provenance": []
  },
  "kernelspec": {
   "display_name": "Python 3",
   "language": "python",
   "name": "python3"
  },
  "language_info": {
   "codemirror_mode": {
    "name": "ipython",
    "version": 3
   },
   "file_extension": ".py",
   "mimetype": "text/x-python",
   "name": "python",
   "nbconvert_exporter": "python",
   "pygments_lexer": "ipython3",
   "version": "3.7.3"
  }
 },
 "nbformat": 4,
 "nbformat_minor": 1
}
